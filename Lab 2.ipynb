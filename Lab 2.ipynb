{
 "cells": [
  {
   "cell_type": "markdown",
   "id": "0aa8ca72",
   "metadata": {},
   "source": [
    "# Contrast stretching"
   ]
  },
  {
   "cell_type": "code",
   "execution_count": null,
   "id": "65e2cdf8",
   "metadata": {},
   "outputs": [],
   "source": [
    "import cv2 as cv\n",
    "import numpy as np\n",
    "\n",
    "img = cv.imread(\"Angad.jpeg\")\n",
    "\n",
    "gray = cv.cvtColor(img, cv.COLOR_BGR2GRAY)\n",
    "\n",
    "xp = [0,64,128,192,255]\n",
    "fp = [0,15,128,240,255]\n",
    "\n",
    "x = np.arange(256)\n",
    "table = np.interp(x,xp,fp).astype('uint8')\n",
    "img = cv.LUT(gray, table)\n",
    "\n",
    "cv.imshow('original', gray)\n",
    "cv.imshow('contrast', img)\n",
    "cv.waitKey(0)\n",
    "cv.destroyAllWindows()"
   ]
  },
  {
   "cell_type": "markdown",
   "id": "21a5aff2",
   "metadata": {},
   "source": [
    "# Horizontal flip"
   ]
  },
  {
   "cell_type": "code",
   "execution_count": null,
   "id": "442a8fe1",
   "metadata": {},
   "outputs": [],
   "source": [
    "import cv2 as cv\n",
    "\n",
    "img = cv.imread('Angad.jpeg')\n",
    "\n",
    "flipp = cv.flip(img, 0)\n",
    "resized_image = cv.resize(flipp, (450, 600))\n",
    "cv.imshow('Flipped image', resized_image)\n",
    "cv.waitKey(0)\n",
    "\n"
   ]
  },
  {
   "cell_type": "markdown",
   "id": "01330d01",
   "metadata": {},
   "source": [
    "# Negative"
   ]
  },
  {
   "cell_type": "code",
   "execution_count": null,
   "id": "f99c9009",
   "metadata": {},
   "outputs": [],
   "source": [
    "import cv2 as cv\n",
    "\n",
    "\n",
    "img = cv.imread('Angad.jpeg')\n",
    "\n",
    "row = img.shape[0]\n",
    "col = img.shape[1]\n",
    "\n",
    "\n",
    "grayimg = cv.cvtColor(img, cv.COLOR_BGR2GRAY)\n",
    "negative = grayimg.copy()\n",
    "\n",
    "cv.imshow('Grayscale', grayimg)\n",
    "L = img.max()\n",
    "\n",
    "\n",
    "for i in range(row):\n",
    "    for j in range(col):\n",
    "        negative[i][j] = 255 - negative[i][j]\n",
    "\n",
    "cv.imshow('Negative image', negative)\n",
    "\n",
    "cv.waitKey(0)\n",
    "cv.destroyAllWindows()"
   ]
  },
  {
   "cell_type": "markdown",
   "id": "8f1adb6f",
   "metadata": {},
   "source": [
    "# Thresholding"
   ]
  },
  {
   "cell_type": "code",
   "execution_count": null,
   "id": "4ba303fd",
   "metadata": {},
   "outputs": [],
   "source": [
    "import cv2\n",
    "\n",
    "image1 = cv2.imread('Angad.jpeg')\n",
    "\n",
    "img = cv2.cvtColor(image1, cv2.COLOR_BGR2GRAY)\n",
    " \n",
    "\n",
    "ret, thresh1 = cv2.threshold(img, 120, 255, cv2.THRESH_BINARY)\n",
    "ret, thresh2 = cv2.threshold(img, 120, 255, cv2.THRESH_BINARY_INV)\n",
    "ret, thresh3 = cv2.threshold(img, 120, 255, cv2.THRESH_TRUNC)\n",
    "ret, thresh4 = cv2.threshold(img, 120, 255, cv2.THRESH_TOZERO)\n",
    "ret, thresh5 = cv2.threshold(img, 120, 255, cv2.THRESH_TOZERO_INV)\n",
    " \n",
    "\n",
    "cv2.imshow('Binary Threshold', thresh1)\n",
    "cv2.imshow('Binary Threshold Inverted', thresh2)\n",
    "cv2.imshow('Truncated Threshold', thresh3)\n",
    "cv2.imshow('Set to 0', thresh4)\n",
    "cv2.imshow('Set to 0 Inverted', thresh5)\n",
    "   \n",
    "\n",
    "if cv2.waitKey(0) & 0xff == 27:\n",
    "    cv2.destroyAllWindows()\n",
    "\n"
   ]
  },
  {
   "cell_type": "code",
   "execution_count": null,
   "id": "a37c726a",
   "metadata": {},
   "outputs": [],
   "source": []
  }
 ],
 "metadata": {
  "kernelspec": {
   "display_name": "Python 3 (ipykernel)",
   "language": "python",
   "name": "python3"
  },
  "language_info": {
   "codemirror_mode": {
    "name": "ipython",
    "version": 3
   },
   "file_extension": ".py",
   "mimetype": "text/x-python",
   "name": "python",
   "nbconvert_exporter": "python",
   "pygments_lexer": "ipython3",
   "version": "3.9.7"
  }
 },
 "nbformat": 4,
 "nbformat_minor": 5
}
