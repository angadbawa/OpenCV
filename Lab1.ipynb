{
 "cells": [
  {
   "cell_type": "markdown",
   "id": "937fffd5",
   "metadata": {},
   "source": [
    "# Grayscale"
   ]
  },
  {
   "cell_type": "code",
   "execution_count": null,
   "id": "1d3d1c88",
   "metadata": {},
   "outputs": [],
   "source": [
    "import cv2 as cv\n",
    "\n",
    "img = cv.imread('Angad.jpeg')\n",
    "\n",
    "grayimg = cv.cvtColor(img, cv.COLOR_BGR2GRAY)\n",
    "\n",
    "cv.imshow('Grayscale', grayimg)\n",
    "\n",
    "cv.waitKey(0)\n",
    "cv.destroyAllWindows()"
   ]
  },
  {
   "cell_type": "markdown",
   "id": "e6633bd1",
   "metadata": {},
   "source": [
    "# read"
   ]
  },
  {
   "cell_type": "code",
   "execution_count": null,
   "id": "75b4945a",
   "metadata": {},
   "outputs": [],
   "source": [
    "import cv2 as cv\n",
    "\n",
    "img = cv.imread('Angad.jpeg')\n",
    "\n",
    "cv.imshow('Angad img', img)\n",
    "\n",
    "cv.waitKey(0)\n",
    "cv.destroyAllWindows()"
   ]
  },
  {
   "cell_type": "markdown",
   "id": "e42b5955",
   "metadata": {},
   "source": [
    "# resize"
   ]
  },
  {
   "cell_type": "code",
   "execution_count": null,
   "id": "4a65d857",
   "metadata": {},
   "outputs": [],
   "source": [
    "import cv2 as cv\n",
    "import matplotlib.pyplot as plt\n",
    "\n",
    "img = cv.imread('Angad.jpeg')\n",
    "\n",
    "half = cv.resize(img, (0,0), fx = 0.1, fy = 0.1)\n",
    "bigger = cv.resize(img, (1050, 1610))\n",
    "\n",
    "cv.imshow('original', img)\n",
    "cv.imshow('half', half)\n",
    "cv.imshow('bigger', bigger)\n",
    "\n",
    "cv.waitKey(0)\n",
    "cv.destroyAllWindows()"
   ]
  },
  {
   "cell_type": "markdown",
   "id": "38f2e174",
   "metadata": {},
   "source": [
    "# black n white"
   ]
  },
  {
   "cell_type": "code",
   "execution_count": null,
   "id": "4e377ddc",
   "metadata": {},
   "outputs": [],
   "source": [
    "import cv2 as cv\n",
    "\n",
    "img = cv.imread('Angad.jpeg')\n",
    "\n",
    "grayimg = cv.cvtColor(img, cv.COLOR_BGR2GRAY)\n",
    "(thresh, blacknwhite) = cv.threshold(grayimg, 127, 255, cv.THRESH_BINARY)\n",
    "\n",
    "cv.imshow('Grayscale', grayimg)\n",
    "cv.imshow('Black n White', blacknwhite)\n",
    "cv.waitKey(0)\n",
    "cv.destroyAllWindows()"
   ]
  },
  {
   "cell_type": "markdown",
   "id": "25baac6e",
   "metadata": {},
   "source": [
    "# RGB"
   ]
  },
  {
   "cell_type": "code",
   "execution_count": null,
   "id": "dbddcc82",
   "metadata": {},
   "outputs": [],
   "source": [
    "import cv2\n",
    "import numpy as np\n",
    "img = cv2.imread('Angad.jpeg')\n",
    "\n",
    "cv2.imshow('original image',img)\n",
    "row,col,plane = img.shape\n",
    "temp = np.zeros((row,col,plane),np.uint8)\n",
    "temp[:,:,0] = img[:,:,0]\n",
    "cv2.imshow('Blue plane image',temp)\n",
    "temp = np.zeros((row,col,plane),np.uint8)\n",
    "temp[:,:,1] = img[:,:,1]\n",
    "cv2.imshow('Green plane image',temp)\n",
    "temp = np.zeros((row,col,plane),np.uint8)\n",
    "temp[:,:,2] = img[:,:,2]\n",
    "cv2.imshow('Red plane image',temp)\n",
    "cv2.waitKey(0)\n",
    "\n"
   ]
  }
 ],
 "metadata": {
  "kernelspec": {
   "display_name": "Python 3 (ipykernel)",
   "language": "python",
   "name": "python3"
  },
  "language_info": {
   "codemirror_mode": {
    "name": "ipython",
    "version": 3
   },
   "file_extension": ".py",
   "mimetype": "text/x-python",
   "name": "python",
   "nbconvert_exporter": "python",
   "pygments_lexer": "ipython3",
   "version": "3.9.7"
  }
 },
 "nbformat": 4,
 "nbformat_minor": 5
}
